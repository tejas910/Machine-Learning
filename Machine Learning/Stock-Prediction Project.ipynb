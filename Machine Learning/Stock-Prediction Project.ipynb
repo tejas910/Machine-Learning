{
 "cells": [
  {
   "cell_type": "markdown",
   "metadata": {},
   "source": [
    "# Stock Prediction"
   ]
  },
  {
   "cell_type": "code",
   "execution_count": 1,
   "metadata": {},
   "outputs": [],
   "source": [
    "# Import Modules\n",
    "import math\n",
    "import pandas as pd\n",
    "import pandas_datareader as web\n",
    "from datetime import date\n",
    "import numpy as np\n",
    "from sklearn.preprocessing import MinMaxScaler\n",
    "from keras.models import Sequential\n",
    "from keras.layers import Dense,LSTM\n",
    "import matplotlib.pyplot as plt\n",
    "plt.style.use('fivethirtyeight')"
   ]
  },
  {
   "cell_type": "code",
   "execution_count": 2,
   "metadata": {},
   "outputs": [
    {
     "name": "stdout",
     "output_type": "stream",
     "text": [
      "RELIANCE.NS\n"
     ]
    },
    {
     "data": {
      "text/html": [
       "<div>\n",
       "<style scoped>\n",
       "    .dataframe tbody tr th:only-of-type {\n",
       "        vertical-align: middle;\n",
       "    }\n",
       "\n",
       "    .dataframe tbody tr th {\n",
       "        vertical-align: top;\n",
       "    }\n",
       "\n",
       "    .dataframe thead th {\n",
       "        text-align: right;\n",
       "    }\n",
       "</style>\n",
       "<table border=\"1\" class=\"dataframe\">\n",
       "  <thead>\n",
       "    <tr style=\"text-align: right;\">\n",
       "      <th></th>\n",
       "      <th>High</th>\n",
       "      <th>Low</th>\n",
       "      <th>Open</th>\n",
       "      <th>Close</th>\n",
       "      <th>Volume</th>\n",
       "      <th>Adj Close</th>\n",
       "    </tr>\n",
       "    <tr>\n",
       "      <th>Date</th>\n",
       "      <th></th>\n",
       "      <th></th>\n",
       "      <th></th>\n",
       "      <th></th>\n",
       "      <th></th>\n",
       "      <th></th>\n",
       "    </tr>\n",
       "  </thead>\n",
       "  <tbody>\n",
       "    <tr>\n",
       "      <th>2012-01-02</th>\n",
       "      <td>351.542725</td>\n",
       "      <td>340.348846</td>\n",
       "      <td>345.128540</td>\n",
       "      <td>349.957764</td>\n",
       "      <td>8679938.0</td>\n",
       "      <td>324.075989</td>\n",
       "    </tr>\n",
       "    <tr>\n",
       "      <th>2012-01-03</th>\n",
       "      <td>360.037201</td>\n",
       "      <td>351.839905</td>\n",
       "      <td>352.780975</td>\n",
       "      <td>358.922760</td>\n",
       "      <td>9455771.0</td>\n",
       "      <td>332.377899</td>\n",
       "    </tr>\n",
       "    <tr>\n",
       "      <th>2012-01-04</th>\n",
       "      <td>362.043182</td>\n",
       "      <td>353.325836</td>\n",
       "      <td>360.284851</td>\n",
       "      <td>354.712677</td>\n",
       "      <td>8557084.0</td>\n",
       "      <td>328.479248</td>\n",
       "    </tr>\n",
       "    <tr>\n",
       "      <th>2012-01-05</th>\n",
       "      <td>359.071350</td>\n",
       "      <td>343.791199</td>\n",
       "      <td>354.143066</td>\n",
       "      <td>346.465851</td>\n",
       "      <td>13364666.0</td>\n",
       "      <td>320.842285</td>\n",
       "    </tr>\n",
       "    <tr>\n",
       "      <th>2012-01-06</th>\n",
       "      <td>358.600830</td>\n",
       "      <td>345.054230</td>\n",
       "      <td>345.252350</td>\n",
       "      <td>355.406097</td>\n",
       "      <td>9495456.0</td>\n",
       "      <td>329.121338</td>\n",
       "    </tr>\n",
       "    <tr>\n",
       "      <th>...</th>\n",
       "      <td>...</td>\n",
       "      <td>...</td>\n",
       "      <td>...</td>\n",
       "      <td>...</td>\n",
       "      <td>...</td>\n",
       "      <td>...</td>\n",
       "    </tr>\n",
       "    <tr>\n",
       "      <th>2021-03-08</th>\n",
       "      <td>2231.899902</td>\n",
       "      <td>2168.000000</td>\n",
       "      <td>2168.500000</td>\n",
       "      <td>2191.100098</td>\n",
       "      <td>9002404.0</td>\n",
       "      <td>2191.100098</td>\n",
       "    </tr>\n",
       "    <tr>\n",
       "      <th>2021-03-09</th>\n",
       "      <td>2213.800049</td>\n",
       "      <td>2146.600098</td>\n",
       "      <td>2200.000000</td>\n",
       "      <td>2191.050049</td>\n",
       "      <td>6993792.0</td>\n",
       "      <td>2191.050049</td>\n",
       "    </tr>\n",
       "    <tr>\n",
       "      <th>2021-03-10</th>\n",
       "      <td>2215.100098</td>\n",
       "      <td>2170.250000</td>\n",
       "      <td>2207.000000</td>\n",
       "      <td>2181.949951</td>\n",
       "      <td>5316182.0</td>\n",
       "      <td>2181.949951</td>\n",
       "    </tr>\n",
       "    <tr>\n",
       "      <th>2021-03-12</th>\n",
       "      <td>2206.399902</td>\n",
       "      <td>2123.899902</td>\n",
       "      <td>2195.000000</td>\n",
       "      <td>2137.600098</td>\n",
       "      <td>7783173.0</td>\n",
       "      <td>2137.600098</td>\n",
       "    </tr>\n",
       "    <tr>\n",
       "      <th>2021-03-16</th>\n",
       "      <td>2126.000000</td>\n",
       "      <td>2095.500000</td>\n",
       "      <td>2114.000000</td>\n",
       "      <td>2100.600098</td>\n",
       "      <td>6400677.0</td>\n",
       "      <td>2100.600098</td>\n",
       "    </tr>\n",
       "  </tbody>\n",
       "</table>\n",
       "<p>2265 rows × 6 columns</p>\n",
       "</div>"
      ],
      "text/plain": [
       "                   High          Low         Open        Close      Volume  \\\n",
       "Date                                                                         \n",
       "2012-01-02   351.542725   340.348846   345.128540   349.957764   8679938.0   \n",
       "2012-01-03   360.037201   351.839905   352.780975   358.922760   9455771.0   \n",
       "2012-01-04   362.043182   353.325836   360.284851   354.712677   8557084.0   \n",
       "2012-01-05   359.071350   343.791199   354.143066   346.465851  13364666.0   \n",
       "2012-01-06   358.600830   345.054230   345.252350   355.406097   9495456.0   \n",
       "...                 ...          ...          ...          ...         ...   \n",
       "2021-03-08  2231.899902  2168.000000  2168.500000  2191.100098   9002404.0   \n",
       "2021-03-09  2213.800049  2146.600098  2200.000000  2191.050049   6993792.0   \n",
       "2021-03-10  2215.100098  2170.250000  2207.000000  2181.949951   5316182.0   \n",
       "2021-03-12  2206.399902  2123.899902  2195.000000  2137.600098   7783173.0   \n",
       "2021-03-16  2126.000000  2095.500000  2114.000000  2100.600098   6400677.0   \n",
       "\n",
       "              Adj Close  \n",
       "Date                     \n",
       "2012-01-02   324.075989  \n",
       "2012-01-03   332.377899  \n",
       "2012-01-04   328.479248  \n",
       "2012-01-05   320.842285  \n",
       "2012-01-06   329.121338  \n",
       "...                 ...  \n",
       "2021-03-08  2191.100098  \n",
       "2021-03-09  2191.050049  \n",
       "2021-03-10  2181.949951  \n",
       "2021-03-12  2137.600098  \n",
       "2021-03-16  2100.600098  \n",
       "\n",
       "[2265 rows x 6 columns]"
      ]
     },
     "execution_count": 2,
     "metadata": {},
     "output_type": "execute_result"
    }
   ],
   "source": [
    "#Get the Stock Quote\n",
    "today = date.today()\n",
    "stock = str(input())\n",
    "df = web.DataReader(stock,data_source='yahoo',start='2012-01-01',end=today)\n",
    "#show The data\n"
   ]
  },
  {
   "cell_type": "code",
   "execution_count": 45,
   "metadata": {},
   "outputs": [
    {
     "data": {
      "text/html": [
       "<div>\n",
       "<style scoped>\n",
       "    .dataframe tbody tr th:only-of-type {\n",
       "        vertical-align: middle;\n",
       "    }\n",
       "\n",
       "    .dataframe tbody tr th {\n",
       "        vertical-align: top;\n",
       "    }\n",
       "\n",
       "    .dataframe thead th {\n",
       "        text-align: right;\n",
       "    }\n",
       "</style>\n",
       "<table border=\"1\" class=\"dataframe\">\n",
       "  <thead>\n",
       "    <tr style=\"text-align: right;\">\n",
       "      <th></th>\n",
       "      <th>High</th>\n",
       "      <th>Low</th>\n",
       "      <th>Open</th>\n",
       "      <th>Close</th>\n",
       "      <th>Volume</th>\n",
       "      <th>Adj Close</th>\n",
       "    </tr>\n",
       "    <tr>\n",
       "      <th>Date</th>\n",
       "      <th></th>\n",
       "      <th></th>\n",
       "      <th></th>\n",
       "      <th></th>\n",
       "      <th></th>\n",
       "      <th></th>\n",
       "    </tr>\n",
       "  </thead>\n",
       "  <tbody>\n",
       "    <tr>\n",
       "      <th>2012-01-02</th>\n",
       "      <td>351.542725</td>\n",
       "      <td>340.348846</td>\n",
       "      <td>345.128540</td>\n",
       "      <td>349.957764</td>\n",
       "      <td>8679938.0</td>\n",
       "      <td>324.075989</td>\n",
       "    </tr>\n",
       "    <tr>\n",
       "      <th>2012-01-03</th>\n",
       "      <td>360.037201</td>\n",
       "      <td>351.839905</td>\n",
       "      <td>352.780975</td>\n",
       "      <td>358.922760</td>\n",
       "      <td>9455771.0</td>\n",
       "      <td>332.377899</td>\n",
       "    </tr>\n",
       "    <tr>\n",
       "      <th>2012-01-04</th>\n",
       "      <td>362.043182</td>\n",
       "      <td>353.325836</td>\n",
       "      <td>360.284851</td>\n",
       "      <td>354.712677</td>\n",
       "      <td>8557084.0</td>\n",
       "      <td>328.479248</td>\n",
       "    </tr>\n",
       "    <tr>\n",
       "      <th>2012-01-05</th>\n",
       "      <td>359.071350</td>\n",
       "      <td>343.791199</td>\n",
       "      <td>354.143066</td>\n",
       "      <td>346.465851</td>\n",
       "      <td>13364666.0</td>\n",
       "      <td>320.842285</td>\n",
       "    </tr>\n",
       "    <tr>\n",
       "      <th>2012-01-06</th>\n",
       "      <td>358.600830</td>\n",
       "      <td>345.054230</td>\n",
       "      <td>345.252350</td>\n",
       "      <td>355.406097</td>\n",
       "      <td>9495456.0</td>\n",
       "      <td>329.121338</td>\n",
       "    </tr>\n",
       "    <tr>\n",
       "      <th>...</th>\n",
       "      <td>...</td>\n",
       "      <td>...</td>\n",
       "      <td>...</td>\n",
       "      <td>...</td>\n",
       "      <td>...</td>\n",
       "      <td>...</td>\n",
       "    </tr>\n",
       "    <tr>\n",
       "      <th>2021-03-08</th>\n",
       "      <td>2231.899902</td>\n",
       "      <td>2168.000000</td>\n",
       "      <td>2168.500000</td>\n",
       "      <td>2191.100098</td>\n",
       "      <td>9002404.0</td>\n",
       "      <td>2191.100098</td>\n",
       "    </tr>\n",
       "    <tr>\n",
       "      <th>2021-03-09</th>\n",
       "      <td>2213.800049</td>\n",
       "      <td>2146.600098</td>\n",
       "      <td>2200.000000</td>\n",
       "      <td>2191.050049</td>\n",
       "      <td>6993792.0</td>\n",
       "      <td>2191.050049</td>\n",
       "    </tr>\n",
       "    <tr>\n",
       "      <th>2021-03-10</th>\n",
       "      <td>2215.100098</td>\n",
       "      <td>2170.250000</td>\n",
       "      <td>2207.000000</td>\n",
       "      <td>2181.949951</td>\n",
       "      <td>5316182.0</td>\n",
       "      <td>2181.949951</td>\n",
       "    </tr>\n",
       "    <tr>\n",
       "      <th>2021-03-12</th>\n",
       "      <td>2206.399902</td>\n",
       "      <td>2123.899902</td>\n",
       "      <td>2195.000000</td>\n",
       "      <td>2137.600098</td>\n",
       "      <td>7783173.0</td>\n",
       "      <td>2137.600098</td>\n",
       "    </tr>\n",
       "    <tr>\n",
       "      <th>2021-03-16</th>\n",
       "      <td>2126.000000</td>\n",
       "      <td>2095.500000</td>\n",
       "      <td>2114.000000</td>\n",
       "      <td>2100.600098</td>\n",
       "      <td>6400677.0</td>\n",
       "      <td>2100.600098</td>\n",
       "    </tr>\n",
       "  </tbody>\n",
       "</table>\n",
       "<p>2265 rows × 6 columns</p>\n",
       "</div>"
      ],
      "text/plain": [
       "                   High          Low         Open        Close      Volume  \\\n",
       "Date                                                                         \n",
       "2012-01-02   351.542725   340.348846   345.128540   349.957764   8679938.0   \n",
       "2012-01-03   360.037201   351.839905   352.780975   358.922760   9455771.0   \n",
       "2012-01-04   362.043182   353.325836   360.284851   354.712677   8557084.0   \n",
       "2012-01-05   359.071350   343.791199   354.143066   346.465851  13364666.0   \n",
       "2012-01-06   358.600830   345.054230   345.252350   355.406097   9495456.0   \n",
       "...                 ...          ...          ...          ...         ...   \n",
       "2021-03-08  2231.899902  2168.000000  2168.500000  2191.100098   9002404.0   \n",
       "2021-03-09  2213.800049  2146.600098  2200.000000  2191.050049   6993792.0   \n",
       "2021-03-10  2215.100098  2170.250000  2207.000000  2181.949951   5316182.0   \n",
       "2021-03-12  2206.399902  2123.899902  2195.000000  2137.600098   7783173.0   \n",
       "2021-03-16  2126.000000  2095.500000  2114.000000  2100.600098   6400677.0   \n",
       "\n",
       "              Adj Close  \n",
       "Date                     \n",
       "2012-01-02   324.075989  \n",
       "2012-01-03   332.377899  \n",
       "2012-01-04   328.479248  \n",
       "2012-01-05   320.842285  \n",
       "2012-01-06   329.121338  \n",
       "...                 ...  \n",
       "2021-03-08  2191.100098  \n",
       "2021-03-09  2191.050049  \n",
       "2021-03-10  2181.949951  \n",
       "2021-03-12  2137.600098  \n",
       "2021-03-16  2100.600098  \n",
       "\n",
       "[2265 rows x 6 columns]"
      ]
     },
     "execution_count": 45,
     "metadata": {},
     "output_type": "execute_result"
    }
   ],
   "source": [
    "# if df['Open'] > df['Close']:\n",
    "#     print(\"Go high\")\n",
    "# else:\n",
    "#     print(\"Go Low\")\n",
    "\n",
    "# close =  df['Close'].tail(1)\n",
    "# openpr = df['Open'].tail(1)\n",
    "# if openpr[0] > close[0]: \n",
    "#     print(\"up\")\n",
    "# else:\n",
    "#     print(\"down\")"
   ]
  },
  {
   "cell_type": "code",
   "execution_count": 3,
   "metadata": {},
   "outputs": [
    {
     "data": {
      "text/plain": [
       "(2265, 6)"
      ]
     },
     "execution_count": 3,
     "metadata": {},
     "output_type": "execute_result"
    }
   ],
   "source": [
    "#Get The number of the rows and columns in  data set \n",
    "df.shape"
   ]
  },
  {
   "cell_type": "code",
   "execution_count": 23,
   "metadata": {},
   "outputs": [
    {
     "data": {
      "image/png": "[encoded data removed]",
      "text/plain": [
       "<Figure size 1152x576 with 1 Axes>"
      ]
     },
     "metadata": {},
     "output_type": "display_data"
    }
   ],
   "source": [
    "#visualize the data \n",
    "plt.figure(figsize=(16,8))\n",
    "plt.title('Close Price History')\n",
    "plt.plot(df['Close'])\n",
    "plt.xlabel('Date',fontsize=18)\n",
    "plt.ylabel('Close Price USD ($)',fontsize=18)\n",
    "plt.show()"
   ]
  },
  {
   "cell_type": "code",
   "execution_count": 5,
   "metadata": {},
   "outputs": [
    {
     "data": {
      "text/plain": [
       "2039"
      ]
     },
     "execution_count": 5,
     "metadata": {},
     "output_type": "execute_result"
    }
   ],
   "source": [
    "#Create the new dataframe\n",
    "data = df.filter(['Close'])\n",
    "#Convert the data frame into numpy\n",
    "dataset = data.values\n",
    "#Get the number of the rows to train the model\n",
    "training_data_len = math.ceil( len(dataset)* .9)\n",
    "training_data_len"
   ]
  },
  {
   "cell_type": "code",
   "execution_count": 6,
   "metadata": {},
   "outputs": [
    {
     "data": {
      "text/plain": [
       "array([[0.00758017],\n",
       "       [0.01208593],\n",
       "       [0.00996996],\n",
       "       ...,\n",
       "       [0.92832993],\n",
       "       [0.90603992],\n",
       "       [0.88744392]])"
      ]
     },
     "execution_count": 6,
     "metadata": {},
     "output_type": "execute_result"
    }
   ],
   "source": [
    "#Scale the data \n",
    "scaler = MinMaxScaler(feature_range=(0,1))\n",
    "scaled_data = scaler.fit_transform(dataset)\n",
    "scaled_data"
   ]
  },
  {
   "cell_type": "code",
   "execution_count": 7,
   "metadata": {},
   "outputs": [
    {
     "name": "stdout",
     "output_type": "stream",
     "text": [
      "[array([0.00758017, 0.01208593, 0.00996996, 0.00582515, 0.01031847,\n",
      "       0.00750547, 0.01496117, 0.01796086, 0.01513542, 0.01386584,\n",
      "       0.00917337, 0.01641745, 0.0258024 , 0.02727114, 0.0290137 ,\n",
      "       0.02376112, 0.02679814, 0.02859051, 0.03592172, 0.02953646,\n",
      "       0.03510022, 0.03861024, 0.03812481, 0.0403777 , 0.03905834,\n",
      "       0.04193357, 0.04538134, 0.04424868, 0.04160995, 0.04310358,\n",
      "       0.04301644, 0.03996696, 0.03394267, 0.03537405, 0.04168463,\n",
      "       0.03915792, 0.04070133, 0.0358097 , 0.02622559, 0.02997211,\n",
      "       0.03600884, 0.03356926, 0.03435342, 0.03022104, 0.02500579,\n",
      "       0.02133397, 0.02432121, 0.03048243, 0.0358097 , 0.03445299,\n",
      "       0.03000944, 0.02396027, 0.01966609, 0.0210228 , 0.02288983,\n",
      "       0.0149985 , 0.01691532, 0.01344265, 0.01367913, 0.01234732])]\n",
      "[0.012085926595297947]\n",
      "\n",
      "[array([0.00758017, 0.01208593, 0.00996996, 0.00582515, 0.01031847,\n",
      "       0.00750547, 0.01496117, 0.01796086, 0.01513542, 0.01386584,\n",
      "       0.00917337, 0.01641745, 0.0258024 , 0.02727114, 0.0290137 ,\n",
      "       0.02376112, 0.02679814, 0.02859051, 0.03592172, 0.02953646,\n",
      "       0.03510022, 0.03861024, 0.03812481, 0.0403777 , 0.03905834,\n",
      "       0.04193357, 0.04538134, 0.04424868, 0.04160995, 0.04310358,\n",
      "       0.04301644, 0.03996696, 0.03394267, 0.03537405, 0.04168463,\n",
      "       0.03915792, 0.04070133, 0.0358097 , 0.02622559, 0.02997211,\n",
      "       0.03600884, 0.03356926, 0.03435342, 0.03022104, 0.02500579,\n",
      "       0.02133397, 0.02432121, 0.03048243, 0.0358097 , 0.03445299,\n",
      "       0.03000944, 0.02396027, 0.01966609, 0.0210228 , 0.02288983,\n",
      "       0.0149985 , 0.01691532, 0.01344265, 0.01367913, 0.01234732]), array([0.01208593, 0.00996996, 0.00582515, 0.01031847, 0.00750547,\n",
      "       0.01496117, 0.01796086, 0.01513542, 0.01386584, 0.00917337,\n",
      "       0.01641745, 0.0258024 , 0.02727114, 0.0290137 , 0.02376112,\n",
      "       0.02679814, 0.02859051, 0.03592172, 0.02953646, 0.03510022,\n",
      "       0.03861024, 0.03812481, 0.0403777 , 0.03905834, 0.04193357,\n",
      "       0.04538134, 0.04424868, 0.04160995, 0.04310358, 0.04301644,\n",
      "       0.03996696, 0.03394267, 0.03537405, 0.04168463, 0.03915792,\n",
      "       0.04070133, 0.0358097 , 0.02622559, 0.02997211, 0.03600884,\n",
      "       0.03356926, 0.03435342, 0.03022104, 0.02500579, 0.02133397,\n",
      "       0.02432121, 0.03048243, 0.0358097 , 0.03445299, 0.03000944,\n",
      "       0.02396027, 0.01966609, 0.0210228 , 0.02288983, 0.0149985 ,\n",
      "       0.01691532, 0.01344265, 0.01367913, 0.01234732, 0.01208593])]\n",
      "[0.012085926595297947, 0.0185458681186495]\n",
      "\n"
     ]
    }
   ],
   "source": [
    "#Create the training data set\n",
    "#Create the scaled training data set \n",
    "train_data = scaled_data[0:training_data_len, :]\n",
    "#split the data into x_train and y_train data sets\n",
    "x_train = []\n",
    "y_train = []\n",
    "for i in range(60,len(train_data)):\n",
    "    x_train.append(train_data[i-60:i, 0])\n",
    "    y_train.append(train_data[i, 0])\n",
    "    if i<=61:\n",
    "        print(x_train)\n",
    "        print(y_train)\n",
    "        print()\n",
    "        "
   ]
  },
  {
   "cell_type": "code",
   "execution_count": 8,
   "metadata": {},
   "outputs": [
    {
     "data": {
      "text/plain": [
       "(1979, 60)"
      ]
     },
     "execution_count": 8,
     "metadata": {},
     "output_type": "execute_result"
    }
   ],
   "source": [
    "#Convert the x_train to y_train into numpy array\n",
    "x_train, y_train = np.array(x_train),np.array(y_train)\n",
    "#Reshape the data \n",
    "x_train.shape"
   ]
  },
  {
   "cell_type": "code",
   "execution_count": 9,
   "metadata": {},
   "outputs": [
    {
     "data": {
      "text/plain": [
       "(1979, 60, 1)"
      ]
     },
     "execution_count": 9,
     "metadata": {},
     "output_type": "execute_result"
    }
   ],
   "source": [
    "x_train = np.reshape(x_train,(x_train.shape[0],x_train.shape[1],1))\n",
    "x_train.shape"
   ]
  },
  {
   "cell_type": "code",
   "execution_count": 10,
   "metadata": {},
   "outputs": [],
   "source": [
    "#build the LSTM Model\n",
    "model = Sequential()\n",
    "model.add(LSTM(50,return_sequences=True, input_shape=(x_train.shape[1],1)))\n",
    "model.add(LSTM(50,return_sequences=False))\n",
    "model.add(Dense(25))\n",
    "model.add(Dense(1))"
   ]
  },
  {
   "cell_type": "code",
   "execution_count": 11,
   "metadata": {},
   "outputs": [],
   "source": [
    "model.compile(optimizer='adam',loss='mean_squared_error')"
   ]
  },
  {
   "cell_type": "code",
   "execution_count": 12,
   "metadata": {},
   "outputs": [
    {
     "name": "stdout",
     "output_type": "stream",
     "text": [
      "1979/1979 [==============================] - 47s 24ms/step - loss: 7.3593e-04\n"
     ]
    },
    {
     "data": {
      "text/plain": [
       "<tensorflow.python.keras.callbacks.History at 0x2d81eac3788>"
      ]
     },
     "execution_count": 12,
     "metadata": {},
     "output_type": "execute_result"
    }
   ],
   "source": [
    "#Trian The Model\n",
    "model.fit(x_train,y_train,batch_size=1,epochs=1)"
   ]
  },
  {
   "cell_type": "code",
   "execution_count": 13,
   "metadata": {},
   "outputs": [],
   "source": [
    "#creates the testing data set \n",
    "#Create a new array containing the scaled vslue.\n",
    "test_data = scaled_data[training_data_len - 60: , :]\n",
    "x_test =[]\n",
    "y_test = dataset[training_data_len:, :] #predict values\n",
    "for i in range(60,len(test_data)):\n",
    "    x_test.append(test_data[i-60:i, 0])"
   ]
  },
  {
   "cell_type": "code",
   "execution_count": 14,
   "metadata": {},
   "outputs": [],
   "source": [
    "#Convert the data into numpy array\n",
    "x_test = np.array(x_test)"
   ]
  },
  {
   "cell_type": "code",
   "execution_count": 15,
   "metadata": {},
   "outputs": [],
   "source": [
    "#reshape the data \n",
    "x_test = np.reshape(x_test,(x_test.shape[0],x_test.shape[1],1))"
   ]
  },
  {
   "cell_type": "code",
   "execution_count": 16,
   "metadata": {},
   "outputs": [],
   "source": [
    "#Get the module Prdicted Price Values\n",
    "prediction = model.predict(x_test)\n",
    "prediction = scaler.inverse_transform(prediction)"
   ]
  },
  {
   "cell_type": "code",
   "execution_count": 17,
   "metadata": {},
   "outputs": [
    {
     "data": {
      "text/plain": [
       "30.752361466399336"
      ]
     },
     "execution_count": 17,
     "metadata": {},
     "output_type": "execute_result"
    }
   ],
   "source": [
    "#Get the root mean squared error(RMSE)\n",
    "rmse = np.sqrt(np.mean( prediction -y_test)**2 )\n",
    "rmse"
   ]
  },
  {
   "cell_type": "code",
   "execution_count": 18,
   "metadata": {},
   "outputs": [
    {
     "name": "stderr",
     "output_type": "stream",
     "text": [
      "C:\\Users\\tppat\\anaconda3\\lib\\site-packages\\ipykernel_launcher.py:4: SettingWithCopyWarning: \n",
      "A value is trying to be set on a copy of a slice from a DataFrame.\n",
      "Try using .loc[row_indexer,col_indexer] = value instead\n",
      "\n",
      "See the caveats in the documentation: https://pandas.pydata.org/pandas-docs/stable/user_guide/indexing.html#returning-a-view-versus-a-copy\n",
      "  after removing the cwd from sys.path.\n"
     ]
    },
    {
     "data": {
      "image/png": "[encoded data removed]",
      "text/plain": [
       "<Figure size 1152x576 with 1 Axes>"
      ]
     },
     "metadata": {},
     "output_type": "display_data"
    }
   ],
   "source": [
    "#Plot the data\n",
    "train = data[:training_data_len]\n",
    "valid = data[training_data_len:]\n",
    "valid['prediction'] = prediction\n",
    "plt.figure(figsize=(16,8))\n",
    "plt.title(\"Model\")\n",
    "plt.xlabel('Date',fontsize=18)\n",
    "plt.ylabel('Close Price USD($)',fontsize=18)\n",
    "plt.plot(train['Close'])\n",
    "plt.plot(valid[['Close','prediction']])\n",
    "plt.legend(['Train','Val','prediction'],loc='lower right')\n",
    "plt.show()"
   ]
  },
  {
   "cell_type": "code",
   "execution_count": 19,
   "metadata": {},
   "outputs": [
    {
     "data": {
      "text/html": [
       "<div>\n",
       "<style scoped>\n",
       "    .dataframe tbody tr th:only-of-type {\n",
       "        vertical-align: middle;\n",
       "    }\n",
       "\n",
       "    .dataframe tbody tr th {\n",
       "        vertical-align: top;\n",
       "    }\n",
       "\n",
       "    .dataframe thead th {\n",
       "        text-align: right;\n",
       "    }\n",
       "</style>\n",
       "<table border=\"1\" class=\"dataframe\">\n",
       "  <thead>\n",
       "    <tr style=\"text-align: right;\">\n",
       "      <th></th>\n",
       "      <th>Close</th>\n",
       "      <th>prediction</th>\n",
       "    </tr>\n",
       "    <tr>\n",
       "      <th>Date</th>\n",
       "      <th></th>\n",
       "      <th></th>\n",
       "    </tr>\n",
       "  </thead>\n",
       "  <tbody>\n",
       "    <tr>\n",
       "      <th>2020-04-22</th>\n",
       "      <td>1350.795776</td>\n",
       "      <td>1202.907837</td>\n",
       "    </tr>\n",
       "    <tr>\n",
       "      <th>2020-04-23</th>\n",
       "      <td>1358.027222</td>\n",
       "      <td>1231.503662</td>\n",
       "    </tr>\n",
       "    <tr>\n",
       "      <th>2020-04-24</th>\n",
       "      <td>1403.694336</td>\n",
       "      <td>1264.260620</td>\n",
       "    </tr>\n",
       "    <tr>\n",
       "      <th>2020-04-27</th>\n",
       "      <td>1416.324707</td>\n",
       "      <td>1300.990967</td>\n",
       "    </tr>\n",
       "    <tr>\n",
       "      <th>2020-04-28</th>\n",
       "      <td>1414.739624</td>\n",
       "      <td>1335.681274</td>\n",
       "    </tr>\n",
       "    <tr>\n",
       "      <th>...</th>\n",
       "      <td>...</td>\n",
       "      <td>...</td>\n",
       "    </tr>\n",
       "    <tr>\n",
       "      <th>2021-03-08</th>\n",
       "      <td>2191.100098</td>\n",
       "      <td>2119.472168</td>\n",
       "    </tr>\n",
       "    <tr>\n",
       "      <th>2021-03-09</th>\n",
       "      <td>2191.050049</td>\n",
       "      <td>2132.399170</td>\n",
       "    </tr>\n",
       "    <tr>\n",
       "      <th>2021-03-10</th>\n",
       "      <td>2181.949951</td>\n",
       "      <td>2141.958740</td>\n",
       "    </tr>\n",
       "    <tr>\n",
       "      <th>2021-03-12</th>\n",
       "      <td>2137.600098</td>\n",
       "      <td>2146.854004</td>\n",
       "    </tr>\n",
       "    <tr>\n",
       "      <th>2021-03-16</th>\n",
       "      <td>2100.600098</td>\n",
       "      <td>2141.612061</td>\n",
       "    </tr>\n",
       "  </tbody>\n",
       "</table>\n",
       "<p>226 rows × 2 columns</p>\n",
       "</div>"
      ],
      "text/plain": [
       "                  Close   prediction\n",
       "Date                                \n",
       "2020-04-22  1350.795776  1202.907837\n",
       "2020-04-23  1358.027222  1231.503662\n",
       "2020-04-24  1403.694336  1264.260620\n",
       "2020-04-27  1416.324707  1300.990967\n",
       "2020-04-28  1414.739624  1335.681274\n",
       "...                 ...          ...\n",
       "2021-03-08  2191.100098  2119.472168\n",
       "2021-03-09  2191.050049  2132.399170\n",
       "2021-03-10  2181.949951  2141.958740\n",
       "2021-03-12  2137.600098  2146.854004\n",
       "2021-03-16  2100.600098  2141.612061\n",
       "\n",
       "[226 rows x 2 columns]"
      ]
     },
     "execution_count": 19,
     "metadata": {},
     "output_type": "execute_result"
    }
   ],
   "source": [
    "#Show the Valid and Predictions \n",
    "valid"
   ]
  },
  {
   "cell_type": "code",
   "execution_count": 20,
   "metadata": {},
   "outputs": [
    {
     "name": "stdout",
     "output_type": "stream",
     "text": [
      "[[2199.4995]]\n"
     ]
    }
   ],
   "source": [
    "#Get The quote\n",
    "apple_quote = web.DataReader('RELIANCE.NS',data_source='yahoo',start='2012-01-01',end='2020-10-16')\n",
    "#Create a New DataFrame\n",
    "new_df = apple_quote.filter(['Close'])\n",
    "#Convert dataframe to array\n",
    "last_60_days = new_df[-60:].values\n",
    "#scale the data to be values bet 0 and 1\n",
    "last_60_days_scaled = scaler.transform(last_60_days)\n",
    "#Create empty list\n",
    "X_test = []\n",
    "#Append\n",
    "X_test.append(last_60_days_scaled)\n",
    "#Convert The x_test data set to numpy array\n",
    "X_test = np.array(X_test)\n",
    "#Reshape\n",
    "X_test = np.reshape(X_test,(X_test.shape[0],X_test.shape[1],1))\n",
    "#Predict\n",
    "pred_price = model.predict(X_test)\n",
    "#undo the scaling\n",
    "pred_price = scaler.inverse_transform(pred_price)\n",
    "print(pred_price)"
   ]
  },
  {
   "cell_type": "code",
   "execution_count": 21,
   "metadata": {},
   "outputs": [
    {
     "data": {
      "text/plain": [
       "Date\n",
       "2012-01-02     349.957764\n",
       "2012-01-03     358.922760\n",
       "2012-01-04     354.712677\n",
       "2012-01-05     346.465851\n",
       "2012-01-06     355.406097\n",
       "                 ...     \n",
       "2020-10-12    2237.050049\n",
       "2020-10-13    2280.699951\n",
       "2020-10-14    2287.500000\n",
       "2020-10-15    2206.500000\n",
       "2020-10-16    2175.800049\n",
       "Name: Close, Length: 2164, dtype: float64"
      ]
     },
     "execution_count": 21,
     "metadata": {},
     "output_type": "execute_result"
    }
   ],
   "source": [
    "reliance_stock = web.DataReader('RELIANCE.NS',data_source='yahoo',start='2012-01-01',end='2020-10-16')\n",
    "reliance_stock['Close']"
   ]
  },
  {
   "cell_type": "code",
   "execution_count": null,
   "metadata": {},
   "outputs": [],
   "source": []
  }
 ],
 "metadata": {
  "kernelspec": {
   "display_name": "Python 3",
   "language": "python",
   "name": "python3"
  },
  "language_info": {
   "codemirror_mode": {
    "name": "ipython",
    "version": 3
   },
   "file_extension": ".py",
   "mimetype": "text/x-python",
   "name": "python",
   "nbconvert_exporter": "python",
   "pygments_lexer": "ipython3",
   "version": "3.7.6"
  }
 },
 "nbformat": 4,
 "nbformat_minor": 4
}
